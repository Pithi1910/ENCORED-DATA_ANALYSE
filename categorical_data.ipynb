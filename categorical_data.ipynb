{
  "nbformat": 4,
  "nbformat_minor": 0,
  "metadata": {
    "colab": {
      "provenance": [],
      "authorship_tag": "ABX9TyOS5c/bRIw8HW3N+uho0o3G",
      "include_colab_link": true
    },
    "kernelspec": {
      "name": "python3",
      "display_name": "Python 3"
    },
    "language_info": {
      "name": "python"
    }
  },
  "cells": [
    {
      "cell_type": "markdown",
      "metadata": {
        "id": "view-in-github",
        "colab_type": "text"
      },
      "source": [
        "<a href=\"https://colab.research.google.com/github/Pithi1910/ENCORED-DATA_ANALYSE/blob/main/categorical_data.ipynb\" target=\"_parent\"><img src=\"https://colab.research.google.com/assets/colab-badge.svg\" alt=\"Open In Colab\"/></a>"
      ]
    },
    {
      "cell_type": "code",
      "execution_count": null,
      "metadata": {
        "colab": {
          "base_uri": "https://localhost:8080/"
        },
        "id": "scCQ0LnzX3XJ",
        "outputId": "8922cb3b-721f-4e86-ee18-89da2a4c05e7"
      },
      "outputs": [
        {
          "output_type": "stream",
          "name": "stdout",
          "text": [
            "     0.0000 1.0000  2.0000  3.0000  4.0000  5.0000   6.0000   7.0000  8.0000  \\\n",
            "0    842302      M   17.99   10.38  122.80  1001.0  0.11840  0.27760  0.3001   \n",
            "1    842517      M   20.57   17.77  132.90  1326.0  0.08474  0.07864  0.0869   \n",
            "2  84300903      M   19.69   21.25  130.00  1203.0  0.10960  0.15990  0.1974   \n",
            "3  84348301      M   11.42   20.38   77.58   386.1  0.14250  0.28390  0.2414   \n",
            "4  84358402      M   20.29   14.34  135.10  1297.0  0.10030  0.13280  0.1980   \n",
            "\n",
            "    9.0000  ...  0.1341  0.1364  0.1402  0.1403  0.1405  0.1409  0.1431  \\\n",
            "0  0.14710  ...     0.0     0.0     0.0     0.0     0.0     0.0     0.0   \n",
            "1  0.07017  ...     0.0     0.0     0.0     0.0     0.0     0.0     0.0   \n",
            "2  0.12790  ...     0.0     0.0     0.0     0.0     0.0     0.0     0.0   \n",
            "3  0.10520  ...     0.0     0.0     0.0     0.0     0.0     0.0     0.0   \n",
            "4  0.10430  ...     0.0     0.0     0.0     0.0     0.0     0.0     0.0   \n",
            "\n",
            "   0.1446  0.1486  0.2075  \n",
            "0     0.0     0.0     0.0  \n",
            "1     0.0     0.0     0.0  \n",
            "2     0.0     0.0     0.0  \n",
            "3     0.0     0.0     0.0  \n",
            "4     0.0     0.0     0.0  \n",
            "\n",
            "[5 rows x 565 columns]\n"
          ]
        },
        {
          "output_type": "stream",
          "name": "stderr",
          "text": [
            "/usr/local/lib/python3.10/dist-packages/sklearn/preprocessing/_encoders.py:868: FutureWarning: `sparse` was renamed to `sparse_output` in version 1.2 and will be removed in 1.4. `sparse_output` is ignored unless you leave `sparse` to its default value.\n",
            "  warnings.warn(\n"
          ]
        }
      ],
      "source": [
        "from sklearn.preprocessing import OneHotEncoder\n",
        "import pandas as pd\n",
        "\n",
        "# Load the dataset\n",
        "data = pd.read_csv(\"wdbc.data\", header=None)\n",
        "\n",
        "# Preprocess the data by converting the categorical variable into numerical variables\n",
        "encoder = OneHotEncoder(sparse=False)\n",
        "diagnosis = data.iloc[:, -1].values.reshape(-1, 1)\n",
        "diagnosis_encoded = encoder.fit_transform(diagnosis)\n",
        "\n",
        "# Create a new DataFrame with the encoded diagnosis columns\n",
        "diagnosis_df = pd.DataFrame(diagnosis_encoded, columns=encoder.categories_[0])\n",
        "\n",
        "# Add the encoded diagnosis columns to the original DataFrame\n",
        "data = data.iloc[:, :-1]\n",
        "data = pd.concat([data, diagnosis_df], axis=1)\n",
        "\n",
        "# Drop the original diagnosis column\n",
        "data = data.drop(data.columns[-2], axis=1)\n",
        "\n",
        "# Print the preprocessed DataFrame\n",
        "print(data.head())"
      ]
    }
  ]
}