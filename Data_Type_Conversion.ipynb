{
  "nbformat": 4,
  "nbformat_minor": 0,
  "metadata": {
    "colab": {
      "provenance": [],
      "authorship_tag": "ABX9TyO9tZx0i7h+3RxIo+udZU3+",
      "include_colab_link": true
    },
    "kernelspec": {
      "name": "python3",
      "display_name": "Python 3"
    },
    "language_info": {
      "name": "python"
    }
  },
  "cells": [
    {
      "cell_type": "markdown",
      "metadata": {
        "id": "view-in-github",
        "colab_type": "text"
      },
      "source": [
        "<a href=\"https://colab.research.google.com/github/Pithi1910/ENCORED-DATA_ANALYSE/blob/main/Data_Type_Conversion.ipynb\" target=\"_parent\"><img src=\"https://colab.research.google.com/assets/colab-badge.svg\" alt=\"Open In Colab\"/></a>"
      ]
    },
    {
      "cell_type": "code",
      "execution_count": 1,
      "metadata": {
        "colab": {
          "base_uri": "https://localhost:8080/"
        },
        "id": "wq3iPzBg5zp4",
        "outputId": "4d521720-be70-488f-fa8f-a4e7b70a1009"
      },
      "outputs": [
        {
          "output_type": "stream",
          "name": "stdout",
          "text": [
            "Class                             int64\n",
            "Alcohol                         float64\n",
            "Malic_acid                      float64\n",
            "Ash                             float64\n",
            "Alcalinity_of_ash               float64\n",
            "Magnesium                         int64\n",
            "Total_phenols                   float64\n",
            "Flavanoids                      float64\n",
            "Nonflavanoid_phenols            float64\n",
            "Proanthocyanins                 float64\n",
            "Color_intensity                 float64\n",
            "Hue                             float64\n",
            "OD280/OD315_of_diluted_wines    float64\n",
            "Proline                           int64\n",
            "dtype: object\n",
            "Class                             int64\n",
            "Alcohol                         float64\n",
            "Malic_acid                      float64\n",
            "Ash                             float64\n",
            "Alcalinity_of_ash               float64\n",
            "Magnesium                         int64\n",
            "Total_phenols                   float64\n",
            "Flavanoids                      float64\n",
            "Nonflavanoid_phenols            float64\n",
            "Proanthocyanins                 float64\n",
            "Color_intensity                 float64\n",
            "Hue                             float64\n",
            "OD280/OD315_of_diluted_wines    float64\n",
            "Proline                           int64\n",
            "dtype: object\n"
          ]
        }
      ],
      "source": [
        "import pandas as pd\n",
        "\n",
        "# Load the dataset from your local directory\n",
        "file_path = \"wine.data\"\n",
        "column_names = [\n",
        "    \"Class\",\n",
        "    \"Alcohol\",\n",
        "    \"Malic_acid\",\n",
        "    \"Ash\",\n",
        "    \"Alcalinity_of_ash\",\n",
        "    \"Magnesium\",\n",
        "    \"Total_phenols\",\n",
        "    \"Flavanoids\",\n",
        "    \"Nonflavanoid_phenols\",\n",
        "    \"Proanthocyanins\",\n",
        "    \"Color_intensity\",\n",
        "    \"Hue\",\n",
        "    \"OD280/OD315_of_diluted_wines\",\n",
        "    \"Proline\",\n",
        "]\n",
        "wine_data = pd.read_csv(file_path, names=column_names)\n",
        "\n",
        "# Inspect data types\n",
        "print(wine_data.dtypes)\n",
        "\n",
        "# Convert data types\n",
        "wine_data[\"Alcohol\"] = wine_data[\"Alcohol\"].astype(float)\n",
        "wine_data[\"Malic_acid\"] = wine_data[\"Malic_acid\"].astype(float)\n",
        "wine_data[\"Ash\"] = wine_data[\"Ash\"].astype(float)\n",
        "wine_data[\"Alcalinity_of_ash\"] = wine_data[\"Alcalinity_of_ash\"].astype(float)\n",
        "wine_data[\"Magnesium\"] = wine_data[\"Magnesium\"].astype(int)\n",
        "wine_data[\"Total_phenols\"] = wine_data[\"Total_phenols\"].astype(float)\n",
        "wine_data[\"Flavanoids\"] = wine_data[\"Flavanoids\"].astype(float)\n",
        "wine_data[\"Nonflavanoid_phenols\"] = wine_data[\"Nonflavanoid_phenols\"].astype(float)\n",
        "wine_data[\"Proanthocyanins\"] = wine_data[\"Proanthocyanins\"].astype(float)\n",
        "wine_data[\"Color_intensity\"] = wine_data[\"Color_intensity\"].astype(float)\n",
        "wine_data[\"Hue\"] = wine_data[\"Hue\"].astype(float)\n",
        "wine_data[\"OD280/OD315_of_diluted_wines\"] = wine_data[\n",
        "    \"OD280/OD315_of_diluted_wines\"\n",
        "].astype(float)\n",
        "wine_data[\"Proline\"] = wine_data[\"Proline\"].astype(int)\n",
        "\n",
        "# Verify data types after conversion\n",
        "print(wine_data.dtypes)\n"
      ]
    }
  ]
}