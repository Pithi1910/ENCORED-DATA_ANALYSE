{
  "nbformat": 4,
  "nbformat_minor": 0,
  "metadata": {
    "colab": {
      "provenance": [],
      "authorship_tag": "ABX9TyOxk1LlTS+cgwOt9g871LeN",
      "include_colab_link": true
    },
    "kernelspec": {
      "name": "python3",
      "display_name": "Python 3"
    },
    "language_info": {
      "name": "python"
    }
  },
  "cells": [
    {
      "cell_type": "markdown",
      "metadata": {
        "id": "view-in-github",
        "colab_type": "text"
      },
      "source": [
        "<a href=\"https://colab.research.google.com/github/Pithi1910/ENCORED-DATA_ANALYSE/blob/main/Model_Selection_.ipynb\" target=\"_parent\"><img src=\"https://colab.research.google.com/assets/colab-badge.svg\" alt=\"Open In Colab\"/></a>"
      ]
    },
    {
      "cell_type": "code",
      "execution_count": null,
      "metadata": {
        "colab": {
          "base_uri": "https://localhost:8080/"
        },
        "id": "I2ytSbc_GA5H",
        "outputId": "4c9e79bd-ef48-461e-84f2-31f648fcd2c9"
      },
      "outputs": [
        {
          "output_type": "stream",
          "name": "stdout",
          "text": [
            "Logistic Regression: Accuracy: 0.99 (+/- 0.03)\n",
            "Decision Tree: Accuracy: 0.89 (+/- 0.05)\n",
            "Random Forest: Accuracy: 0.97 (+/- 0.04)\n",
            "Support Vector Machine: Accuracy: 0.98 (+/- 0.04)\n"
          ]
        }
      ],
      "source": [
        "import pandas as pd\n",
        "from sklearn.model_selection import cross_val_score\n",
        "from sklearn.preprocessing import StandardScaler\n",
        "from sklearn.linear_model import LogisticRegression\n",
        "from sklearn.tree import DecisionTreeClassifier\n",
        "from sklearn.ensemble import RandomForestClassifier\n",
        "from sklearn.svm import SVC\n",
        "\n",
        "# Define file path\n",
        "file_path = \"wine.data\"\n",
        "\n",
        "# Define column names\n",
        "column_names = ['Class', 'Alcohol', 'Malic acid', 'Ash', 'Alcalinity of ash', 'Magnesium',\n",
        "                'Total phenols', 'Flavanoids', 'Nonflavanoid phenols', 'Proanthocyanins',\n",
        "                'Color intensity', 'Hue', 'OD280/OD315 of diluted wines', 'Proline']\n",
        "\n",
        "# Load dataset into DataFrame\n",
        "wine_data = pd.read_csv(file_path, names=column_names)\n",
        "\n",
        "# Data preprocessing\n",
        "X = wine_data.drop('Class', axis=1)\n",
        "y = wine_data['Class']\n",
        "\n",
        "# Scale the data\n",
        "scaler = StandardScaler()\n",
        "X_scaled = scaler.fit_transform(X)\n",
        "\n",
        "# Model selection\n",
        "models = {\n",
        "    'Logistic Regression': LogisticRegression(max_iter=1000),  # Increase max_iter\n",
        "    'Decision Tree': DecisionTreeClassifier(),\n",
        "    'Random Forest': RandomForestClassifier(),\n",
        "    'Support Vector Machine': SVC()\n",
        "}\n",
        "\n",
        "for name, model in models.items():\n",
        "    scores = cross_val_score(model, X_scaled, y, cv=5, scoring='accuracy')\n",
        "    print(f\"{name}: Accuracy: {scores.mean():.2f} (+/- {scores.std() * 2:.2f})\")\n"
      ]
    }
  ]
}