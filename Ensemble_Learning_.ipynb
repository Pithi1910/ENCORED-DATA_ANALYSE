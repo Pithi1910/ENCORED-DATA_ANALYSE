{
  "nbformat": 4,
  "nbformat_minor": 0,
  "metadata": {
    "colab": {
      "provenance": [],
      "authorship_tag": "ABX9TyOqjr7L5CMgkXvspr76y+ih",
      "include_colab_link": true
    },
    "kernelspec": {
      "name": "python3",
      "display_name": "Python 3"
    },
    "language_info": {
      "name": "python"
    }
  },
  "cells": [
    {
      "cell_type": "markdown",
      "metadata": {
        "id": "view-in-github",
        "colab_type": "text"
      },
      "source": [
        "<a href=\"https://colab.research.google.com/github/Pithi1910/ENCORED-DATA_ANALYSE/blob/main/Ensemble_Learning_.ipynb\" target=\"_parent\"><img src=\"https://colab.research.google.com/assets/colab-badge.svg\" alt=\"Open In Colab\"/></a>"
      ]
    },
    {
      "cell_type": "code",
      "execution_count": null,
      "metadata": {
        "id": "bmXxJywMFSSr",
        "colab": {
          "base_uri": "https://localhost:8080/"
        },
        "outputId": "d942dbdf-a397-4eb5-a7d8-32be44d9f478"
      },
      "outputs": [
        {
          "output_type": "stream",
          "name": "stderr",
          "text": [
            "/usr/local/lib/python3.10/dist-packages/sklearn/linear_model/_logistic.py:458: ConvergenceWarning: lbfgs failed to converge (status=1):\n",
            "STOP: TOTAL NO. of ITERATIONS REACHED LIMIT.\n",
            "\n",
            "Increase the number of iterations (max_iter) or scale the data as shown in:\n",
            "    https://scikit-learn.org/stable/modules/preprocessing.html\n",
            "Please also refer to the documentation for alternative solver options:\n",
            "    https://scikit-learn.org/stable/modules/linear_model.html#logistic-regression\n",
            "  n_iter_i = _check_optimize_result(\n"
          ]
        },
        {
          "output_type": "stream",
          "name": "stdout",
          "text": [
            "Stacking Accuracy: 0.9170305676855895\n",
            "AdaBoost Accuracy: 0.45633187772925765\n"
          ]
        }
      ],
      "source": [
        "import pandas as pd\n",
        "from sklearn.model_selection import train_test_split\n",
        "from sklearn.ensemble import RandomForestClassifier, AdaBoostClassifier\n",
        "from sklearn.linear_model import LogisticRegression\n",
        "from sklearn.metrics import accuracy_score\n",
        "from sklearn.impute import SimpleImputer\n",
        "from mlxtend.classifier import StackingClassifier\n",
        "\n",
        "# Load the dataset\n",
        "data = pd.read_csv(\"train.csv\")\n",
        "\n",
        "# Prepare data\n",
        "X = data.drop('label', axis=1)\n",
        "y = data['label']\n",
        "\n",
        "# Split data\n",
        "X_train, X_test, y_train, y_test = train_test_split(X, y, test_size=0.2, random_state=42)\n",
        "\n",
        "# Handle missing values\n",
        "imputer = SimpleImputer(strategy='mean')\n",
        "X_train_imputed = imputer.fit_transform(X_train)\n",
        "X_test_imputed = imputer.transform(X_test)\n",
        "\n",
        "# Stacking ensemble\n",
        "base_models = [\n",
        "    ('Random Forest', RandomForestClassifier(n_estimators=100, random_state=42)),\n",
        "    ('AdaBoost', AdaBoostClassifier(n_estimators=100, random_state=42))\n",
        "]\n",
        "meta_model = LogisticRegression(max_iter=1000)\n",
        "stacking_model = StackingClassifier(classifiers=[model[1] for model in base_models],\n",
        "                                    meta_classifier=meta_model)\n",
        "stacking_model.fit(X_train_imputed, y_train)\n",
        "y_pred_stacking = stacking_model.predict(X_test_imputed)\n",
        "accuracy_stacking = accuracy_score(y_test, y_pred_stacking)\n",
        "print(\"Stacking Accuracy:\", accuracy_stacking)\n",
        "\n",
        "# Boosting ensemble (AdaBoost)\n",
        "boosting_model = AdaBoostClassifier(n_estimators=100, random_state=42)\n",
        "boosting_model.fit(X_train_imputed, y_train)\n",
        "y_pred_boosting = boosting_model.predict(X_test_imputed)\n",
        "accuracy_boosting = accuracy_score(y_test, y_pred_boosting)\n",
        "print(\"AdaBoost Accuracy:\", accuracy_boosting)\n"
      ]
    }
  ]
}