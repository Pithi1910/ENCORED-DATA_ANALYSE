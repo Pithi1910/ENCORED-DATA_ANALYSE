{
  "nbformat": 4,
  "nbformat_minor": 0,
  "metadata": {
    "colab": {
      "provenance": [],
      "authorship_tag": "ABX9TyMn2iSxBzoacIxtnhO2ePIZ",
      "include_colab_link": true
    },
    "kernelspec": {
      "name": "python3",
      "display_name": "Python 3"
    },
    "language_info": {
      "name": "python"
    }
  },
  "cells": [
    {
      "cell_type": "markdown",
      "metadata": {
        "id": "view-in-github",
        "colab_type": "text"
      },
      "source": [
        "<a href=\"https://colab.research.google.com/github/Pithi1910/ENCORED-DATA_ANALYSE/blob/main/SGD_Classifiers_.ipynb\" target=\"_parent\"><img src=\"https://colab.research.google.com/assets/colab-badge.svg\" alt=\"Open In Colab\"/></a>"
      ]
    },
    {
      "cell_type": "code",
      "execution_count": null,
      "metadata": {
        "colab": {
          "base_uri": "https://localhost:8080/",
          "height": 1000
        },
        "id": "rH0DSAubD5h0",
        "outputId": "e1e3ccd7-789f-4844-d2b5-44ddb1043821"
      },
      "outputs": [
        {
          "output_type": "stream",
          "name": "stderr",
          "text": [
            "/usr/local/lib/python3.10/dist-packages/sklearn/linear_model/_stochastic_gradient.py:163: FutureWarning: The loss 'log' was deprecated in v1.1 and will be removed in version 1.3. Use `loss='log_loss'` which is equivalent.\n",
            "  warnings.warn(\n",
            "/usr/local/lib/python3.10/dist-packages/sklearn/metrics/_classification.py:1344: UndefinedMetricWarning: Precision and F-score are ill-defined and being set to 0.0 in labels with no predicted samples. Use `zero_division` parameter to control this behavior.\n",
            "  _warn_prf(average, modifier, msg_start, len(result))\n",
            "/usr/local/lib/python3.10/dist-packages/sklearn/metrics/_classification.py:1344: UndefinedMetricWarning: Precision and F-score are ill-defined and being set to 0.0 in labels with no predicted samples. Use `zero_division` parameter to control this behavior.\n",
            "  _warn_prf(average, modifier, msg_start, len(result))\n",
            "/usr/local/lib/python3.10/dist-packages/sklearn/metrics/_classification.py:1344: UndefinedMetricWarning: Precision and F-score are ill-defined and being set to 0.0 in labels with no predicted samples. Use `zero_division` parameter to control this behavior.\n",
            "  _warn_prf(average, modifier, msg_start, len(result))\n",
            "/usr/local/lib/python3.10/dist-packages/sklearn/linear_model/_stochastic_gradient.py:163: FutureWarning: The loss 'log' was deprecated in v1.1 and will be removed in version 1.3. Use `loss='log_loss'` which is equivalent.\n",
            "  warnings.warn(\n",
            "/usr/local/lib/python3.10/dist-packages/sklearn/metrics/_classification.py:1344: UndefinedMetricWarning: Precision and F-score are ill-defined and being set to 0.0 in labels with no predicted samples. Use `zero_division` parameter to control this behavior.\n",
            "  _warn_prf(average, modifier, msg_start, len(result))\n",
            "/usr/local/lib/python3.10/dist-packages/sklearn/metrics/_classification.py:1344: UndefinedMetricWarning: Precision and F-score are ill-defined and being set to 0.0 in labels with no predicted samples. Use `zero_division` parameter to control this behavior.\n",
            "  _warn_prf(average, modifier, msg_start, len(result))\n",
            "/usr/local/lib/python3.10/dist-packages/sklearn/metrics/_classification.py:1344: UndefinedMetricWarning: Precision and F-score are ill-defined and being set to 0.0 in labels with no predicted samples. Use `zero_division` parameter to control this behavior.\n",
            "  _warn_prf(average, modifier, msg_start, len(result))\n"
          ]
        },
        {
          "output_type": "stream",
          "name": "stdout",
          "text": [
            "Accuracy: 0.5409836065573771\n",
            "              precision    recall  f1-score   support\n",
            "\n",
            "           0       0.65      0.97      0.78        29\n",
            "           1       0.25      0.08      0.12        12\n",
            "           2       0.00      0.00      0.00         9\n",
            "           3       0.31      0.57      0.40         7\n",
            "           4       0.00      0.00      0.00         4\n",
            "\n",
            "    accuracy                           0.54        61\n",
            "   macro avg       0.24      0.32      0.26        61\n",
            "weighted avg       0.39      0.54      0.44        61\n",
            "\n",
            "[[28  1  0  0  0]\n",
            " [ 9  1  0  2  0]\n",
            " [ 3  1  0  5  0]\n",
            " [ 2  0  0  4  1]\n",
            " [ 1  1  0  2  0]]\n",
            "Accuracy: 0.5409836065573771\n",
            "              precision    recall  f1-score   support\n",
            "\n",
            "           0       0.65      0.97      0.78        29\n",
            "           1       0.25      0.08      0.12        12\n",
            "           2       0.00      0.00      0.00         9\n",
            "           3       0.31      0.57      0.40         7\n",
            "           4       0.00      0.00      0.00         4\n",
            "\n",
            "    accuracy                           0.54        61\n",
            "   macro avg       0.24      0.32      0.26        61\n",
            "weighted avg       0.39      0.54      0.44        61\n",
            "\n"
          ]
        },
        {
          "output_type": "execute_result",
          "data": {
            "text/plain": [
              "<Axes: >"
            ]
          },
          "metadata": {},
          "execution_count": 4
        },
        {
          "output_type": "display_data",
          "data": {
            "text/plain": [
              "<Figure size 640x480 with 2 Axes>"
            ],
            "image/png": "[encoded data removed]"
          },
          "metadata": {}
        }
      ],
      "source": [
        "import pandas as pd\n",
        "import numpy as np\n",
        "from sklearn.model_selection import train_test_split\n",
        "from sklearn.linear_model import SGDClassifier\n",
        "from sklearn.metrics import accuracy_score, classification_report, confusion_matrix\n",
        "\n",
        "# 1. Load the Dataset\n",
        "url = \"https://archive.ics.uci.edu/ml/machine-learning-databases/heart-disease/processed.cleveland.data\"\n",
        "column_names = ['age', 'sex', 'cp', 'trestbps', 'chol', 'fbs', 'restecg',\n",
        "                'thalach', 'exang', 'oldpeak', 'slope', 'ca', 'thal', 'target']\n",
        "heart_data = pd.read_csv(url, names=column_names)\n",
        "\n",
        "# 2. Data Preprocessing\n",
        "# Replace '?' with NaN\n",
        "X = heart_data.drop('target', axis=1)\n",
        "X.replace('?', np.nan, inplace=True)\n",
        "\n",
        "# Convert columns to numeric\n",
        "X = X.astype(float)\n",
        "\n",
        "# Impute missing values with mean\n",
        "X.fillna(X.mean(), inplace=True)\n",
        "\n",
        "# Split the data into features and target variable\n",
        "y = heart_data['target']\n",
        "\n",
        "# 3. Split the Data\n",
        "X_train, X_test, y_train, y_test = train_test_split(X, y, test_size=0.2, random_state=42)\n",
        "\n",
        "# 4. Model Training\n",
        "model = SGDClassifier(loss='log', max_iter=1000, random_state=42)  # 'log' loss for logistic regression\n",
        "model.fit(X_train, y_train)\n",
        "\n",
        "# 5. Model Evaluation\n",
        "y_pred = model.predict(X_test)\n",
        "accuracy = accuracy_score(y_test, y_pred)\n",
        "print(\"Accuracy:\", accuracy)\n",
        "print(classification_report(y_test, y_pred))\n",
        "print(confusion_matrix(y_test, y_pred))\n",
        "\n",
        "y = heart_data['target']\n",
        "\n",
        "# Split data into training and testing sets\n",
        "X_train, X_test, y_train, y_test = train_test_split(X, y, test_size=0.2, random_state=42)\n",
        "\n",
        "# Model training\n",
        "model = SGDClassifier(loss='log', max_iter=1000, random_state=42)  # 'log' loss for logistic regression\n",
        "model.fit(X_train, y_train)\n",
        "\n",
        "# Model evaluation\n",
        "y_pred = model.predict(X_test)\n",
        "accuracy = accuracy_score(y_test, y_pred)\n",
        "print(\"Accuracy:\", accuracy)\n",
        "print(classification_report(y_test, y_pred))\n",
        "sns.heatmap(confusion_matrix(y_test, y_pred), annot=True, cmap='Reds', fmt='g')\n"
      ]
    }
  ]
}