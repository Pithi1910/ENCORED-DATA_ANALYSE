{
  "nbformat": 4,
  "nbformat_minor": 0,
  "metadata": {
    "colab": {
      "provenance": [],
      "authorship_tag": "ABX9TyNxMwx7XqJw2is72IbUDSag",
      "include_colab_link": true
    },
    "kernelspec": {
      "name": "python3",
      "display_name": "Python 3"
    },
    "language_info": {
      "name": "python"
    }
  },
  "cells": [
    {
      "cell_type": "markdown",
      "metadata": {
        "id": "view-in-github",
        "colab_type": "text"
      },
      "source": [
        "<a href=\"https://colab.research.google.com/github/Pithi1910/ENCORED-DATA_ANALYSE/blob/main/1.ipynb\" target=\"_parent\"><img src=\"https://colab.research.google.com/assets/colab-badge.svg\" alt=\"Open In Colab\"/></a>"
      ]
    },
    {
      "cell_type": "code",
      "execution_count": 3,
      "metadata": {
        "id": "wJg0NrO1qjUB",
        "colab": {
          "base_uri": "https://localhost:8080/"
        },
        "outputId": "10976adb-f033-46eb-d257-69d43a0b16cd"
      },
      "outputs": [
        {
          "output_type": "stream",
          "name": "stdout",
          "text": [
            "Missing Values:\n",
            "PassengerId    0\n",
            "Survived       0\n",
            "dtype: int64\n",
            "Missing Values:\n",
            "PassengerId      0\n",
            "Pclass           0\n",
            "Name             0\n",
            "Sex              0\n",
            "Age             86\n",
            "SibSp            0\n",
            "Parch            0\n",
            "Ticket           0\n",
            "Fare             1\n",
            "Cabin          327\n",
            "Embarked         0\n",
            "dtype: int64\n",
            "Missing Values:\n",
            "PassengerId      0\n",
            "Survived         0\n",
            "Pclass           0\n",
            "Name             0\n",
            "Sex              0\n",
            "Age            177\n",
            "SibSp            0\n",
            "Parch            0\n",
            "Ticket           0\n",
            "Fare             0\n",
            "Cabin          687\n",
            "Embarked         2\n",
            "dtype: int64\n"
          ]
        },
        {
          "output_type": "stream",
          "name": "stderr",
          "text": [
            "<ipython-input-3-586abb03af0e>:21: FutureWarning: The default value of numeric_only in DataFrame.mean is deprecated. In a future version, it will default to False. In addition, specifying 'numeric_only=None' is deprecated. Select only valid columns or specify the value of numeric_only to silence this warning.\n",
            "  data_imputed_mean = data.fillna(data.mean())\n",
            "<ipython-input-3-586abb03af0e>:24: FutureWarning: The default value of numeric_only in DataFrame.median is deprecated. In a future version, it will default to False. In addition, specifying 'numeric_only=None' is deprecated. Select only valid columns or specify the value of numeric_only to silence this warning.\n",
            "  data_imputed_median = data.fillna(data.median())\n",
            "<ipython-input-3-586abb03af0e>:21: FutureWarning: The default value of numeric_only in DataFrame.mean is deprecated. In a future version, it will default to False. In addition, specifying 'numeric_only=None' is deprecated. Select only valid columns or specify the value of numeric_only to silence this warning.\n",
            "  data_imputed_mean = data.fillna(data.mean())\n",
            "<ipython-input-3-586abb03af0e>:24: FutureWarning: The default value of numeric_only in DataFrame.median is deprecated. In a future version, it will default to False. In addition, specifying 'numeric_only=None' is deprecated. Select only valid columns or specify the value of numeric_only to silence this warning.\n",
            "  data_imputed_median = data.fillna(data.median())\n"
          ]
        }
      ],
      "source": [
        "import pandas as pd\n",
        "\n",
        "import pandas as pd\n",
        "\n",
        "# Load the datasets\n",
        "file1 = pd.read_csv('gender_submission.csv')\n",
        "file2 = pd.read_csv('test.csv')\n",
        "file3 = pd.read_csv('train.csv')\n",
        "\n",
        "# Function to handle missing values\n",
        "def handle_missing_values(data):\n",
        "    # Identify missing values\n",
        "    missing_values = data.isnull().sum()\n",
        "\n",
        "    # Print the count of missing values\n",
        "    print(\"Missing Values:\")\n",
        "    print(missing_values)\n",
        "\n",
        "    # Handle missing values\n",
        "    # Option 1: Imputation with mean\n",
        "    data_imputed_mean = data.fillna(data.mean())\n",
        "\n",
        "    # Option 2: Imputation with median\n",
        "    data_imputed_median = data.fillna(data.median())\n",
        "\n",
        "    # Option 3: Drop rows with missing values\n",
        "    data_dropped_rows = data.dropna(axis=0)\n",
        "\n",
        "    # Option 4: Drop columns with missing values\n",
        "    data_dropped_columns = data.dropna(axis=1)\n",
        "\n",
        "    return data_imputed_mean, data_imputed_median, data_dropped_rows, data_dropped_columns\n",
        "\n",
        "# Handle missing values for each dataset\n",
        "file1_imputed_mean, file1_imputed_median, file1_dropped_rows, file1_dropped_columns = handle_missing_values(file1)\n",
        "file2_imputed_mean, file2_imputed_median, file2_dropped_rows, file2_dropped_columns = handle_missing_values(file2)\n",
        "file3_imputed_mean, file3_imputed_median, file3_dropped_rows, file3_dropped_columns = handle_missing_values(file3)\n",
        "\n",
        "# Write the cleaned datasets to new CSV files\n",
        "file1_imputed_mean.to_csv('file1_imputed_mean.csv', index=False)\n",
        "file1_imputed_median.to_csv('file1_imputed_median.csv', index=False)\n",
        "file1_dropped_rows.to_csv('file1_dropped_rows.csv', index=False)\n",
        "file1_dropped_columns.to_csv('file1_dropped_columns.csv', index=False)\n",
        "\n",
        "file2_imputed_mean.to_csv('file2_imputed_mean.csv', index=False)\n",
        "file2_imputed_median.to_csv('file2_imputed_median.csv', index=False)\n",
        "file2_dropped_rows.to_csv('file2_dropped_rows.csv', index=False)\n",
        "file2_dropped_columns.to_csv('file2_dropped_columns.csv', index=False)\n",
        "\n",
        "file3_imputed_mean.to_csv('file3_imputed_mean.csv', index=False)\n",
        "file3_imputed_median.to_csv('file3_imputed_median.csv', index=False)\n",
        "file3_dropped_rows.to_csv('file3_dropped_rows.csv', index=False)\n",
        "file3_dropped_columns.to_csv('file3_dropped_columns.csv', index=False)\n"
      ]
    }
  ]
}